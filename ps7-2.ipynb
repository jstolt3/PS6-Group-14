{
 "cells": [
  {
   "cell_type": "code",
   "execution_count": 6,
   "id": "26f6442b",
   "metadata": {
    "scrolled": true
   },
   "outputs": [
    {
     "name": "stderr",
     "output_type": "stream",
     "text": [
      "Warning message:\n",
      "\"package 'rpart' is in use and will not be installed\"Warning message:\n",
      "\"package 'rpart.plot' is in use and will not be installed\"Warning message:\n",
      "\"package 'MASS' was built under R version 3.6.3\""
     ]
    }
   ],
   "source": [
    "install.packages(\"rpart\")       # performing regression trees\n",
    "install.packages(\"rpart.plot\")  # plotting regression trees\n",
    "library(rpart)\n",
    "library(rpart.plot)\n",
    "library(tree)\n",
    "library(MASS)"
   ]
  },
  {
   "cell_type": "markdown",
   "id": "f9fccc78",
   "metadata": {},
   "source": [
    "# Exercise 2 (Simulation Study):\n",
    "\n",
    "The goal here is to think about how a regression tree makes its predictions and consequently when a regression\n",
    "tree might yield a better result than other methods.\n",
    "- Propose a dgp that will be well suited for analysis using regression trees and evaluate relevant properties\n",
    "  in a small simulation study.\n",
    "- Propose a dgp that will be well suited for analysis using the linear regression model (i.e. where the linear\n",
    "  regression model is more likely to “beat\" the regression tree method) and evaluate.\n",
    "- Show how pruning reduces the variance of the regression tree prediction."
   ]
  },
  {
   "cell_type": "markdown",
   "id": "f91546b0",
   "metadata": {},
   "source": [
    "## Trees Versus Linear Models\n",
    "Regression and classification trees have a very different flavor from the more classical approaches for regression and classification methods already discussed before. Which model is better? It depends on the problem at hand. If the relationship between the features and the response is well approximated by a linear model, then an approach such as linear regression will likely work well, and will outperform a method such as a regression tree that does not exploit this linear structure. If instead there is a highly non-linear and complex relationship between the features and the response, then decision trees may outperform classical approaches."
   ]
  },
  {
   "cell_type": "code",
   "execution_count": 7,
   "id": "f8e75ede",
   "metadata": {},
   "outputs": [],
   "source": [
    "# We would propose a data generating process where y is dependent by 3 or 4 covariates, which many not be \n",
    "# a linear combination of these cavariates.\n",
    "\n",
    "# Data generating process\n",
    "\n",
    "dgp1 <- function(n){\n",
    "  X1 <- rnorm(n, m, sd)\n",
    "  X2 <- rnorm(n, m, sd)\n",
    "  X3 <- rnorm(n, m, sd)\n",
    "  X4 <- rnorm(n, m, sd)  \n",
    "  eps <- rnorm(n, 0 ,1)\n",
    "  yi <- 2* X1 * X2 + X3 + ((X4)^2) + eps\n",
    "  data <- data.frame(\"yi\" = yi, \"X1\" = X1, \"X2\" = X2,\"X3\" = X3, \"X4\" = X4, \"eps\" = eps)\n",
    "  return(data)\n",
    "}"
   ]
  },
  {
   "cell_type": "code",
   "execution_count": 18,
   "id": "4b82805e",
   "metadata": {},
   "outputs": [
    {
     "data": {
      "text/plain": [
       "node), split, n, deviance, yval\n",
       "      * denotes terminal node\n",
       "\n",
       "  1) root 100 14760.0   4.24200  \n",
       "    2) X4 < -2.94081 10  1049.0  20.94000  \n",
       "      4) X3 < 0.742181 5   348.6  28.01000 *\n",
       "      5) X3 > 0.742181 5   201.1  13.87000 *\n",
       "    3) X4 > -2.94081 90 10620.0   2.38700  \n",
       "      6) X4 < 1.9792 77  7410.0   0.28820  \n",
       "       12) X2 < -2.78723 5   366.1 -13.02000 *\n",
       "       13) X2 > -2.78723 72  6097.0   1.21200  \n",
       "         26) X1 < 2.9654 64  2621.0   0.07291  \n",
       "           52) X2 < 2.24105 52   786.5   1.64900 *\n",
       "           53) X2 > 2.24105 12  1146.0  -6.75800  \n",
       "            106) X1 < -1.32497 7   250.3 -13.03000 *\n",
       "            107) X1 > -1.32497 5   233.7   2.02700 *\n",
       "         27) X1 > 2.9654 8  2728.0  10.33000 *\n",
       "      7) X4 > 1.9792 13   858.5  14.82000  \n",
       "       14) X4 < 3.50023 7   285.7   9.69200 *\n",
       "       15) X4 > 3.50023 6   173.9  20.80000 *"
      ]
     },
     "metadata": {},
     "output_type": "display_data"
    },
    {
     "data": {
      "text/plain": [
       "\n",
       "Call:\n",
       "lm(formula = yi ~ ., data = training_data)\n",
       "\n",
       "Coefficients:\n",
       "(Intercept)           X1           X2           X3           X4          eps  \n",
       "     3.8133       0.8246       0.5451       0.7023      -0.2222       1.6498  \n"
      ]
     },
     "metadata": {},
     "output_type": "display_data"
    },
    {
     "data": {
      "image/png": "[encoded data removed]",
      "text/plain": [
       "plot without title"
      ]
     },
     "metadata": {},
     "output_type": "display_data"
    }
   ],
   "source": [
    "# Fitting a regression tree\n",
    "\n",
    "n <- 200\n",
    "m <- 0\n",
    "sd <- 2\n",
    "\n",
    "set.seed(122)\n",
    "\n",
    "data <- dgp1(n)\n",
    "\n",
    "train = sample(1:nrow(data), nrow(data)/2)\n",
    "test = - train\n",
    "\n",
    "training_data = data[train,]\n",
    "test_data = data[test,]\n",
    "\n",
    "train_tree <- tree(yi~., training_data)\n",
    "train_tree\n",
    "plot(train_tree)\n",
    "text(train_tree, pretty=0)\n",
    "\n",
    "\n",
    "# Fitting the linear model\n",
    "\n",
    "train_lm <- lm(yi~., data = training_data)\n",
    "train_lm\n",
    "\n",
    "\n",
    "\n"
   ]
  },
  {
   "cell_type": "code",
   "execution_count": 24,
   "id": "e650a863",
   "metadata": {},
   "outputs": [
    {
     "data": {
      "text/html": [
       "100.059460514821"
      ],
      "text/latex": [
       "100.059460514821"
      ],
      "text/markdown": [
       "100.059460514821"
      ],
      "text/plain": [
       "[1] 100.0595"
      ]
     },
     "metadata": {},
     "output_type": "display_data"
    },
    {
     "data": {
      "text/html": [
       "122.504437141415"
      ],
      "text/latex": [
       "122.504437141415"
      ],
      "text/markdown": [
       "122.504437141415"
      ],
      "text/plain": [
       "[1] 122.5044"
      ]
     },
     "metadata": {},
     "output_type": "display_data"
    }
   ],
   "source": [
    "# Predicting the new data with the test data partion\n",
    "\n",
    "test_tree <- predict(train_tree, newdata = test_data)\n",
    "test_lm <- predict(train_lm, newdata = test_data)\n",
    "\n",
    "#============calculating mse======================#\n",
    "mse_tree <- mean((test_tree - test_data$yi) ^ 2)\n",
    "mse_lm <- mean((test_lm - test_data$yi) ^ 2)\n",
    "mse_tree\n",
    "mse_lm"
   ]
  }
 ],
 "metadata": {
  "kernelspec": {
   "display_name": "R",
   "language": "R",
   "name": "ir"
  },
  "language_info": {
   "codemirror_mode": "r",
   "file_extension": ".r",
   "mimetype": "text/x-r-source",
   "name": "R",
   "pygments_lexer": "r",
   "version": "3.6.1"
  }
 },
 "nbformat": 4,
 "nbformat_minor": 5
}
