{
 "cells": [
  {
   "cell_type": "code",
   "execution_count": 2,
   "id": "26f6442b",
   "metadata": {
    "scrolled": true
   },
   "outputs": [
    {
     "name": "stderr",
     "output_type": "stream",
     "text": [
      "Warning message:\n",
      "\"package 'rpart' is in use and will not be installed\"Warning message:\n",
      "\"package 'rpart.plot' is in use and will not be installed\""
     ]
    }
   ],
   "source": [
    "install.packages(\"rpart\")       # performing regression trees\n",
    "install.packages(\"rpart.plot\")  # plotting regression trees\n",
    "library(rpart)\n",
    "library(rpart.plot)\n",
    "library(tree)\n"
   ]
  },
  {
   "cell_type": "markdown",
   "id": "f9fccc78",
   "metadata": {},
   "source": [
    "# Exercise 2 (Simulation Study):\n",
    "\n",
    "The goal here is to think about how a regression tree makes its predictions and consequently when a regression\n",
    "tree might yield a better result than other methods.\n",
    "- Propose a dgp that will be well suited for analysis using regression trees and evaluate relevant properties\n",
    "  in a small simulation study.\n",
    "- Propose a dgp that will be well suited for analysis using the linear regression model (i.e. where the linear\n",
    "  regression model is more likely to “beat\" the regression tree method) and evaluate.\n",
    "- Show how pruning reduces the variance of the regression tree prediction."
   ]
  },
  {
   "cell_type": "markdown",
   "id": "f91546b0",
   "metadata": {},
   "source": [
    "## Trees Versus Linear Models\n",
    "Regression and classification trees have a very different flavor from the more classical approaches for regression and classification methods already discussed before. Which model is better? It depends on the problem at hand. If the relationship between the features and the response is well approximated by a linear model, then an approach such as linear regression will likely work well, and will outperform a method such as a regression tree that does not exploit this linear structure. If instead there is a highly non-linear and complex relationship between the features and the response, then decision trees may outperform classical approaches."
   ]
  },
  {
   "cell_type": "code",
   "execution_count": 32,
   "id": "f8e75ede",
   "metadata": {},
   "outputs": [],
   "source": [
    "# We would propose a data generating process where y is dependent by 3 or 4 covariates, which many not be \n",
    "# a linear combination of these cavariates.\n",
    "\n",
    "# Data generating process\n",
    "\n",
    "dgp1 <- function(n){\n",
    "  X1 <- rnorm(n, m, sd)\n",
    "  X2 <- rnorm(n, m, sd)\n",
    "  X3 <- rnorm(n, m, sd)\n",
    "  X4 <- rnorm(n, m, sd)  \n",
    "  eps <- rnorm(n, 0 ,1)\n",
    "  yi <-  X1 * X2 + X3 + ((X4)^2) + eps\n",
    "  data <- data.frame(\"yi\" = yi, \"X1\" = X1, \"X2\" = X2,\"X3\" = X3, \"X4\" = X4, \"eps\" = eps)\n",
    "  return(data)\n",
    "}"
   ]
  },
  {
   "cell_type": "code",
   "execution_count": 33,
   "id": "4b82805e",
   "metadata": {},
   "outputs": [
    {
     "data": {
      "text/plain": [
       "node), split, n, deviance, yval\n",
       "      * denotes terminal node\n",
       "\n",
       "  1) root 80 6119.00  4.2000  \n",
       "    2) X4 < -3.22912 6  293.80 20.0100 *\n",
       "    3) X4 > -3.22912 74 4203.00  2.9180  \n",
       "      6) X4 < 2.82318 69 2271.00  1.7620  \n",
       "       12) eps < 0.174865 36  773.00 -0.4868  \n",
       "         24) X2 < 2.3619 31  495.60  0.2927  \n",
       "           48) X1 < 2.00681 26  233.70  1.3680 *\n",
       "           49) X1 > 2.00681 5   75.33 -5.3010 *\n",
       "         25) X2 > 2.3619 5  141.80 -5.3190 *\n",
       "       13) eps > 0.174865 33 1118.00  4.2150  \n",
       "         26) X3 < 0.689315 17  527.90  1.6780  \n",
       "           52) eps < 0.832155 7  167.80  5.2560 *\n",
       "           53) eps > 0.832155 10  207.80 -0.8264 *\n",
       "         27) X3 > 0.689315 16  364.10  6.9100  \n",
       "           54) X2 < 0.805152 10  207.20  5.2650  \n",
       "            108) X1 < 0.0784851 5  107.10  7.9050 *\n",
       "            109) X1 > 0.0784851 5   30.45  2.6260 *\n",
       "           55) X2 > 0.805152 6   84.73  9.6510 *\n",
       "      7) X4 > 2.82318 5  566.00 18.8800 *"
      ]
     },
     "metadata": {},
     "output_type": "display_data"
    },
    {
     "data": {
      "text/plain": [
       "\n",
       "Call:\n",
       "lm(formula = yi ~ ., data = training_data)\n",
       "\n",
       "Coefficients:\n",
       "(Intercept)           X1           X2           X3           X4          eps  \n",
       "    3.78216      0.01498      0.17368      1.03986     -0.39858      1.15636  \n"
      ]
     },
     "metadata": {},
     "output_type": "display_data"
    },
    {
     "data": {
      "image/png": "[encoded data removed]",
      "text/plain": [
       "plot without title"
      ]
     },
     "metadata": {},
     "output_type": "display_data"
    }
   ],
   "source": [
    "# Fitting a regression tree\n",
    "\n",
    "n <- 100\n",
    "m <- 0\n",
    "sd <- 2\n",
    "\n",
    "set.seed(122)\n",
    "\n",
    "data <- dgp1(n)\n",
    "\n",
    "train = sample(1:nrow(data), nrow(data)*0.8)\n",
    "test = - train\n",
    "\n",
    "training_data = data[train,]\n",
    "test_data = data[test,]\n",
    "\n",
    "train_tree <- tree(yi~., training_data)\n",
    "train_tree\n",
    "plot(train_tree)\n",
    "text(train_tree, pretty=0)\n",
    "\n",
    "\n",
    "# Fitting the linear model\n",
    "\n",
    "train_lm <- lm(yi~., data = training_data)\n",
    "train_lm\n",
    "\n",
    "\n",
    "\n"
   ]
  },
  {
   "cell_type": "code",
   "execution_count": 34,
   "id": "e650a863",
   "metadata": {},
   "outputs": [
    {
     "data": {
      "text/html": [
       "33.3690497921815"
      ],
      "text/latex": [
       "33.3690497921815"
      ],
      "text/markdown": [
       "33.3690497921815"
      ],
      "text/plain": [
       "[1] 33.36905"
      ]
     },
     "metadata": {},
     "output_type": "display_data"
    },
    {
     "data": {
      "text/html": [
       "39.2460653827064"
      ],
      "text/latex": [
       "39.2460653827064"
      ],
      "text/markdown": [
       "39.2460653827064"
      ],
      "text/plain": [
       "[1] 39.24607"
      ]
     },
     "metadata": {},
     "output_type": "display_data"
    }
   ],
   "source": [
    "# Predicting the new data with the test data partion\n",
    "\n",
    "test_tree <- predict(train_tree, newdata = test_data)\n",
    "test_lm <- predict(train_lm, newdata = test_data)\n",
    "\n",
    "#============calculating mse======================#\n",
    "mse_tree <- mean((test_tree - test_data$yi) ^ 2)\n",
    "mse_lm <- mean((test_lm - test_data$yi) ^ 2)\n",
    "mse_tree\n",
    "mse_lm"
   ]
  },
  {
   "cell_type": "code",
   "execution_count": 35,
   "id": "248fe2aa",
   "metadata": {
    "scrolled": true
   },
   "outputs": [
    {
     "data": {
      "text/html": [
       "<ol class=list-inline>\n",
       "\t<li>'size'</li>\n",
       "\t<li>'dev'</li>\n",
       "\t<li>'k'</li>\n",
       "\t<li>'method'</li>\n",
       "</ol>\n"
      ],
      "text/latex": [
       "\\begin{enumerate*}\n",
       "\\item 'size'\n",
       "\\item 'dev'\n",
       "\\item 'k'\n",
       "\\item 'method'\n",
       "\\end{enumerate*}\n"
      ],
      "text/markdown": [
       "1. 'size'\n",
       "2. 'dev'\n",
       "3. 'k'\n",
       "4. 'method'\n",
       "\n",
       "\n"
      ],
      "text/plain": [
       "[1] \"size\"   \"dev\"    \"k\"      \"method\""
      ]
     },
     "metadata": {},
     "output_type": "display_data"
    },
    {
     "data": {
      "image/png": "[encoded data removed]",
      "text/plain": [
       "plot without title"
      ]
     },
     "metadata": {},
     "output_type": "display_data"
    },
    {
     "data": {
      "image/png": "[encoded data removed]",
      "text/plain": [
       "plot without title"
      ]
     },
     "metadata": {},
     "output_type": "display_data"
    }
   ],
   "source": [
    "# Pruning the tree using cross validation \n",
    "\n",
    "cv_tree <- cv.tree(train_tree)\n",
    "names(cv_tree)\n",
    "plot(cv_tree$size,\n",
    "     cv_tree$dev,\n",
    "     type = \"b\",\n",
    "     xlab = \"Tree Size\",\n",
    "     ylab = \"MSE\")\n",
    "\n",
    "# Prune the tree to size 3\n",
    "\n",
    "pruned_tree <- prune.tree(train_tree, best = 3)\n",
    "\n",
    "plot(pruned_tree)\n",
    "text(pruned_tree, pretty=0)"
   ]
  },
  {
   "cell_type": "code",
   "execution_count": 36,
   "id": "d8b13bb5",
   "metadata": {},
   "outputs": [
    {
     "data": {
      "text/html": [
       "28.841590387419"
      ],
      "text/latex": [
       "28.841590387419"
      ],
      "text/markdown": [
       "28.841590387419"
      ],
      "text/plain": [
       "[1] 28.84159"
      ]
     },
     "metadata": {},
     "output_type": "display_data"
    }
   ],
   "source": [
    "# checking the accuracy of the pruned model using the testing data\n",
    "\n",
    "test_ptree <- predict(pruned_tree, test_data)\n",
    "\n",
    "#============calculating mse======================#\n",
    "mse_ptree <- mean((test_ptree - test_data$yi) ^ 2)\n",
    "mse_ptree"
   ]
  }
 ],
 "metadata": {
  "kernelspec": {
   "display_name": "R",
   "language": "R",
   "name": "ir"
  },
  "language_info": {
   "codemirror_mode": "r",
   "file_extension": ".r",
   "mimetype": "text/x-r-source",
   "name": "R",
   "pygments_lexer": "r",
   "version": "3.6.1"
  }
 },
 "nbformat": 4,
 "nbformat_minor": 5
}
